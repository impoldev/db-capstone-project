{
 "cells": [
  {
   "cell_type": "code",
   "execution_count": 1,
   "id": "1a669ed9-ba02-4827-a2fb-047a7ad3b33c",
   "metadata": {},
   "outputs": [
    {
     "name": "stdout",
     "output_type": "stream",
     "text": [
      "Requirement already satisfied: mysql-connector-python in c:\\users\\pablo\\appdata\\local\\programs\\python\\python313\\lib\\site-packages (9.2.0)\n"
     ]
    }
   ],
   "source": [
    "!pip install mysql-connector-python"
   ]
  },
  {
   "cell_type": "code",
   "execution_count": 2,
   "id": "1bdb8122-5380-4a8d-9c46-63171d3528e7",
   "metadata": {},
   "outputs": [],
   "source": [
    "import mysql.connector as connector"
   ]
  },
  {
   "cell_type": "code",
   "execution_count": 3,
   "id": "9735f354-64de-44b3-9c80-53510347f7a3",
   "metadata": {},
   "outputs": [
    {
     "name": "stdout",
     "output_type": "stream",
     "text": [
      "Connection established\n"
     ]
    }
   ],
   "source": [
    "# Replace user and password with your credentials\n",
    "\n",
    "connection = connector.connect(user = \"your_user\", password = \"your_password\", db = 'littlelemondb')\n",
    "print('Connection established')"
   ]
  },
  {
   "cell_type": "code",
   "execution_count": 4,
   "id": "eb91e3bb-39ce-44fb-9271-ff1408e80618",
   "metadata": {},
   "outputs": [
    {
     "name": "stdout",
     "output_type": "stream",
     "text": [
      "[('bookings',), ('customers',), ('menu',), ('menuitems',), ('orderdeliverystatus',), ('orders',), ('ordersview',), ('staff',)]\n"
     ]
    }
   ],
   "source": [
    "cursor = connection.cursor() \n",
    "cursor.execute('SHOW TABLES')\n",
    "results = cursor.fetchall()\n",
    "print(results)"
   ]
  },
  {
   "cell_type": "code",
   "execution_count": 5,
   "id": "2a72f7f3-5603-4d9b-9afd-c0c1d5dd6333",
   "metadata": {},
   "outputs": [
    {
     "name": "stdout",
     "output_type": "stream",
     "text": [
      "('FullName', 'Email', 'ContactNumber', 'BillAmount')\n",
      "('David Lee', 'david@example.com', '4449876543', Decimal('210.00'))\n",
      "('Emma Davis', 'emma@example.com', '3337778899', Decimal('250.00'))\n"
     ]
    }
   ],
   "source": [
    "join_query = \"\"\"\n",
    "SELECT Customers.FullName, Customers.Email, Customers.ContactNumber, Orders.TotalCost AS BillAmount FROM Customers\n",
    "INNER JOIN Orders ON Customers.CustomerID = Orders.CustomerID\n",
    "WHERE Orders.TotalCost > 60;\n",
    "\"\"\"\n",
    "\n",
    "cursor.execute(join_query)\n",
    "print(cursor.column_names)\n",
    "for x in cursor.fetchall():\n",
    "    print(x)    "
   ]
  }
 ],
 "metadata": {
  "kernelspec": {
   "display_name": "Python 3 (ipykernel)",
   "language": "python",
   "name": "python3"
  },
  "language_info": {
   "codemirror_mode": {
    "name": "ipython",
    "version": 3
   },
   "file_extension": ".py",
   "mimetype": "text/x-python",
   "name": "python",
   "nbconvert_exporter": "python",
   "pygments_lexer": "ipython3",
   "version": "3.13.1"
  }
 },
 "nbformat": 4,
 "nbformat_minor": 5
}
